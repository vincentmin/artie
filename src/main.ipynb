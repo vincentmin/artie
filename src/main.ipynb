{
 "cells": [
  {
   "cell_type": "code",
   "execution_count": 1,
   "metadata": {},
   "outputs": [],
   "source": [
    "import pandas as pd"
   ]
  },
  {
   "cell_type": "code",
   "execution_count": 2,
   "metadata": {},
   "outputs": [
    {
     "data": {
      "text/plain": [
       "((814226, 6), (13082, 6))"
      ]
     },
     "execution_count": 2,
     "metadata": {},
     "output_type": "execute_result"
    }
   ],
   "source": [
    "df = pd.read_csv(\"../data/records.csv\")\n",
    "df.shape, df.dropna().shape"
   ]
  },
  {
   "cell_type": "code",
   "execution_count": 3,
   "metadata": {},
   "outputs": [
    {
     "data": {
      "text/html": [
       "<div>\n",
       "<style scoped>\n",
       "    .dataframe tbody tr th:only-of-type {\n",
       "        vertical-align: middle;\n",
       "    }\n",
       "\n",
       "    .dataframe tbody tr th {\n",
       "        vertical-align: top;\n",
       "    }\n",
       "\n",
       "    .dataframe thead th {\n",
       "        text-align: right;\n",
       "    }\n",
       "</style>\n",
       "<table border=\"1\" class=\"dataframe\">\n",
       "  <thead>\n",
       "    <tr style=\"text-align: right;\">\n",
       "      <th></th>\n",
       "      <th>original_id</th>\n",
       "      <th>image_url</th>\n",
       "      <th>long_title</th>\n",
       "      <th>description</th>\n",
       "      <th>artist_uri</th>\n",
       "      <th>author_name</th>\n",
       "    </tr>\n",
       "  </thead>\n",
       "  <tbody>\n",
       "    <tr>\n",
       "      <th>0</th>\n",
       "      <td>https://id.rijksmuseum.nl/2001</td>\n",
       "      <td>https://iiif.micr.io/KMFvF/full/max/0/default.jpg</td>\n",
       "      <td>Before, Behind, Between, Above, Below</td>\n",
       "      <td>Links naast de vrouw staat een paal waaraan ee...</td>\n",
       "      <td>https://id.rijksmuseum.nl/21029638</td>\n",
       "      <td>Nicolaas Wijnberg</td>\n",
       "    </tr>\n",
       "    <tr>\n",
       "      <th>1</th>\n",
       "      <td>https://id.rijksmuseum.nl/20010</td>\n",
       "      <td>https://iiif.micr.io/wgIZp/full/max/0/default.jpg</td>\n",
       "      <td>Badende jongens</td>\n",
       "      <td>In het midden trekt een jongen zijn hemd over ...</td>\n",
       "      <td>https://id.rijksmuseum.nl/21029638</td>\n",
       "      <td>Nicolaas Wijnberg</td>\n",
       "    </tr>\n",
       "    <tr>\n",
       "      <th>2</th>\n",
       "      <td>https://id.rijksmuseum.nl/20010000</td>\n",
       "      <td>https://iiif.micr.io/owHmZ/full/max/0/default.jpg</td>\n",
       "      <td>Portret van Dirk I, graaf van Holland</td>\n",
       "      <td>Portret van Dirk I, graaf van Holland, staande...</td>\n",
       "      <td>NaN</td>\n",
       "      <td>NaN</td>\n",
       "    </tr>\n",
       "    <tr>\n",
       "      <th>3</th>\n",
       "      <td>https://id.rijksmuseum.nl/200100000</td>\n",
       "      <td>https://iiif.micr.io/NVgFC/full/max/0/default.jpg</td>\n",
       "      <td>Peso van 8 reales uit de republiek Mexico,1863...</td>\n",
       "      <td>Zilveren munt. Voorzijde: op takken staande ad...</td>\n",
       "      <td>NaN</td>\n",
       "      <td>NaN</td>\n",
       "    </tr>\n",
       "    <tr>\n",
       "      <th>4</th>\n",
       "      <td>https://id.rijksmuseum.nl/200100001</td>\n",
       "      <td>https://iiif.micr.io/PPxWZ/full/max/0/default.jpg</td>\n",
       "      <td>Wilhelmina Koningin der Nederlanden</td>\n",
       "      <td>Goudkleurig messing penninkje, op de voorzijde...</td>\n",
       "      <td>https://id.rijksmuseum.nl/21075739</td>\n",
       "      <td>NaN</td>\n",
       "    </tr>\n",
       "  </tbody>\n",
       "</table>\n",
       "</div>"
      ],
      "text/plain": [
       "                           original_id  \\\n",
       "0       https://id.rijksmuseum.nl/2001   \n",
       "1      https://id.rijksmuseum.nl/20010   \n",
       "2   https://id.rijksmuseum.nl/20010000   \n",
       "3  https://id.rijksmuseum.nl/200100000   \n",
       "4  https://id.rijksmuseum.nl/200100001   \n",
       "\n",
       "                                           image_url  \\\n",
       "0  https://iiif.micr.io/KMFvF/full/max/0/default.jpg   \n",
       "1  https://iiif.micr.io/wgIZp/full/max/0/default.jpg   \n",
       "2  https://iiif.micr.io/owHmZ/full/max/0/default.jpg   \n",
       "3  https://iiif.micr.io/NVgFC/full/max/0/default.jpg   \n",
       "4  https://iiif.micr.io/PPxWZ/full/max/0/default.jpg   \n",
       "\n",
       "                                          long_title  \\\n",
       "0              Before, Behind, Between, Above, Below   \n",
       "1                                    Badende jongens   \n",
       "2              Portret van Dirk I, graaf van Holland   \n",
       "3  Peso van 8 reales uit de republiek Mexico,1863...   \n",
       "4                Wilhelmina Koningin der Nederlanden   \n",
       "\n",
       "                                         description  \\\n",
       "0  Links naast de vrouw staat een paal waaraan ee...   \n",
       "1  In het midden trekt een jongen zijn hemd over ...   \n",
       "2  Portret van Dirk I, graaf van Holland, staande...   \n",
       "3  Zilveren munt. Voorzijde: op takken staande ad...   \n",
       "4  Goudkleurig messing penninkje, op de voorzijde...   \n",
       "\n",
       "                           artist_uri        author_name  \n",
       "0  https://id.rijksmuseum.nl/21029638  Nicolaas Wijnberg  \n",
       "1  https://id.rijksmuseum.nl/21029638  Nicolaas Wijnberg  \n",
       "2                                 NaN                NaN  \n",
       "3                                 NaN                NaN  \n",
       "4  https://id.rijksmuseum.nl/21075739                NaN  "
      ]
     },
     "execution_count": 3,
     "metadata": {},
     "output_type": "execute_result"
    }
   ],
   "source": [
    "df.head()"
   ]
  },
  {
   "cell_type": "code",
   "execution_count": 4,
   "metadata": {},
   "outputs": [
    {
     "data": {
      "text/plain": [
       "author_name\n",
       "NaN                             0.941004\n",
       "Ed van der Elsken               0.001454\n",
       "Printshop                       0.000960\n",
       "Jeanne Bieruma Oosting          0.000942\n",
       "Donker, Charles                 0.000749\n",
       "                                  ...   \n",
       "Jacob Duck                      0.000001\n",
       "Mathieu Dubus                   0.000001\n",
       "Huib van Hove Bz                0.000001\n",
       "Wilhelmus Johannes Steenhoff    0.000001\n",
       "Andrew Fairbairn Affleck        0.000001\n",
       "Name: proportion, Length: 4574, dtype: float64"
      ]
     },
     "execution_count": 4,
     "metadata": {},
     "output_type": "execute_result"
    }
   ],
   "source": [
    "df.author_name.value_counts(normalize=True, dropna=False)"
   ]
  },
  {
   "cell_type": "code",
   "execution_count": 5,
   "metadata": {},
   "outputs": [
    {
     "data": {
      "application/vnd.jupyter.widget-view+json": {
       "model_id": "c58f0791c6154730a54fa563714b8c2d",
       "version_major": 2,
       "version_minor": 0
      },
      "text/plain": [
       "Generating train split: 0 examples [00:00, ? examples/s]"
      ]
     },
     "metadata": {},
     "output_type": "display_data"
    },
    {
     "data": {
      "text/plain": [
       "Dataset({\n",
       "    features: ['original_id', 'image_url', 'long_title', 'description', 'artist_uri', 'author_name'],\n",
       "    num_rows: 814226\n",
       "})"
      ]
     },
     "execution_count": 5,
     "metadata": {},
     "output_type": "execute_result"
    }
   ],
   "source": [
    "from datasets import Dataset\n",
    "\n",
    "ds = Dataset.from_csv(\"../data/records.csv\")\n",
    "ds"
   ]
  },
  {
   "cell_type": "code",
   "execution_count": 7,
   "metadata": {},
   "outputs": [
    {
     "data": {
      "application/vnd.jupyter.widget-view+json": {
       "model_id": "c1a3449adcd342708810b56f68053cc0",
       "version_major": 2,
       "version_minor": 0
      },
      "text/plain": [
       "Uploading the dataset shards:   0%|          | 0/1 [00:00<?, ?it/s]"
      ]
     },
     "metadata": {},
     "output_type": "display_data"
    },
    {
     "data": {
      "application/vnd.jupyter.widget-view+json": {
       "model_id": "81bec83988fe49bdbe6da16aa9aca86f",
       "version_major": 2,
       "version_minor": 0
      },
      "text/plain": [
       "Creating parquet from Arrow format:   0%|          | 0/815 [00:00<?, ?ba/s]"
      ]
     },
     "metadata": {},
     "output_type": "display_data"
    },
    {
     "data": {
      "text/plain": [
       "CommitInfo(commit_url='https://huggingface.co/datasets/vincentmin/rijksmuseum-oai/commit/71dd532e16f7849303e64a0bc6f8a87cf1d2bdd4', commit_message='Upload dataset', commit_description='', oid='71dd532e16f7849303e64a0bc6f8a87cf1d2bdd4', pr_url=None, repo_url=RepoUrl('https://huggingface.co/datasets/vincentmin/rijksmuseum-oai', endpoint='https://huggingface.co', repo_type='dataset', repo_id='vincentmin/rijksmuseum-oai'), pr_revision=None, pr_num=None)"
      ]
     },
     "execution_count": 7,
     "metadata": {},
     "output_type": "execute_result"
    }
   ],
   "source": [
    "ds.push_to_hub(\"vincentmin/rijksmuseum-oai\")"
   ]
  },
  {
   "cell_type": "code",
   "execution_count": null,
   "metadata": {},
   "outputs": [],
   "source": []
  }
 ],
 "metadata": {
  "kernelspec": {
   "display_name": ".venv",
   "language": "python",
   "name": "python3"
  },
  "language_info": {
   "codemirror_mode": {
    "name": "ipython",
    "version": 3
   },
   "file_extension": ".py",
   "mimetype": "text/x-python",
   "name": "python",
   "nbconvert_exporter": "python",
   "pygments_lexer": "ipython3",
   "version": "3.12.1"
  }
 },
 "nbformat": 4,
 "nbformat_minor": 2
}
