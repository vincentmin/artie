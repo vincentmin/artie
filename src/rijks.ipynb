{
 "cells": [
  {
   "cell_type": "code",
   "execution_count": 6,
   "metadata": {},
   "outputs": [],
   "source": [
    "import json\n",
    "import httpx\n",
    "import lxml.etree\n",
    "from tqdm.auto import tqdm\n",
    "import pandas as pd"
   ]
  },
  {
   "cell_type": "code",
   "execution_count": null,
   "metadata": {},
   "outputs": [
    {
     "data": {
      "application/vnd.jupyter.widget-view+json": {
       "model_id": "18f816725a8345b28fa54037ec9fa449",
       "version_major": 2,
       "version_minor": 0
      },
      "text/plain": [
       "  0%|          | 0/814225 [00:00<?, ?it/s]"
      ]
     },
     "metadata": {},
     "output_type": "display_data"
    }
   ],
   "source": [
    "params = {\n",
    "    \"verb\": \"ListRecords\",\n",
    "    \"metadataPrefix\": \"edm\",\n",
    "}\n",
    "\n",
    "namespaces = {\n",
    "    \"oai\": \"http://www.openarchives.org/OAI/2.0/\",\n",
    "    \"dc\": \"http://purl.org/dc/elements/1.1/\",\n",
    "    \"dcterms\": \"http://purl.org/dc/terms/\",\n",
    "    \"edm\": \"http://www.europeana.eu/schemas/edm/\",\n",
    "    \"svcs\": \"http://rdfs.org/sioc/services/\",\n",
    "    \"rdf\": \"http://www.w3.org/1999/02/22-rdf-syntax-ns#\",\n",
    "}\n",
    "\n",
    "csv_header_written = False  # Flag to track if header has been written\n",
    "\n",
    "with httpx.Client() as client:\n",
    "    response = client.get(\"https://data.rijksmuseum.nl/oai\", params=params)\n",
    "\n",
    "    tree = lxml.etree.fromstring(response.content)\n",
    "\n",
    "    total_records = int(\n",
    "        tree.xpath(\".//oai:resumptionToken/@completeListSize\", namespaces=namespaces)[0]\n",
    "    )\n",
    "\n",
    "    with tqdm(total=total_records) as pbar:\n",
    "        while True:\n",
    "            tree = lxml.etree.fromstring(response.content)\n",
    "\n",
    "            batch = tree.xpath(\".//oai:record\", namespaces=namespaces)\n",
    "            records = []\n",
    "\n",
    "            for i, record in enumerate(batch):\n",
    "                object_id = record.xpath(\n",
    "                    \".//oai:identifier/text()\", namespaces=namespaces\n",
    "                ) or [None]\n",
    "                title = record.xpath(\".//dc:title/text()\", namespaces=namespaces) or [None]\n",
    "                description = record.xpath(\n",
    "                    \".//dc:description/text()\", namespaces=namespaces\n",
    "                ) or [None]\n",
    "                image_url = record.xpath(\n",
    "                    \".//edm:object/edm:WebResource/@rdf:about\", namespaces=namespaces\n",
    "                ) or record.xpath(\".//edm:object/@rdf:resource\", namespaces=namespaces) or [None]\n",
    "                artist = record.xpath(\n",
    "                    \".//dc:creator/@rdf:resource\", namespaces=namespaces\n",
    "                ) or [None]\n",
    "\n",
    "                try:\n",
    "                    records.append(\n",
    "                        dict(  # Append to batch list\n",
    "                            original_id=object_id[0],\n",
    "                            image_url=image_url[0],\n",
    "                            long_title=title[0],\n",
    "                            description=description[0],\n",
    "                            artist=artist[0],\n",
    "                        )\n",
    "                    )\n",
    "                except Exception:\n",
    "                    print(f\"Failure for record {i}\")\n",
    "                    raise\n",
    "\n",
    "            df_batch = pd.DataFrame(records)\n",
    "            df_batch.to_csv(\n",
    "                \"../data/records.csv\",\n",
    "                mode=\"a\",\n",
    "                header=not csv_header_written,\n",
    "                index=False,\n",
    "            )\n",
    "            csv_header_written = True\n",
    "\n",
    "            pbar.update(len(batch))\n",
    "\n",
    "            resumption_token_list = tree.xpath(\n",
    "                \".//oai:resumptionToken/text()\", namespaces=namespaces\n",
    "            )\n",
    "            if resumption_token_list:\n",
    "                params = {\n",
    "                    \"verb\": \"ListRecords\",\n",
    "                    \"resumptionToken\": resumption_token_list[0],\n",
    "                }\n",
    "                response = client.get(\"https://data.rijksmuseum.nl/oai\", params=params)\n",
    "            else:\n",
    "                break"
   ]
  },
  {
   "cell_type": "code",
   "execution_count": null,
   "metadata": {},
   "outputs": [],
   "source": []
  }
 ],
 "metadata": {
  "kernelspec": {
   "display_name": ".venv",
   "language": "python",
   "name": "python3"
  },
  "language_info": {
   "codemirror_mode": {
    "name": "ipython",
    "version": 3
   },
   "file_extension": ".py",
   "mimetype": "text/x-python",
   "name": "python",
   "nbconvert_exporter": "python",
   "pygments_lexer": "ipython3",
   "version": "3.12.1"
  }
 },
 "nbformat": 4,
 "nbformat_minor": 2
}
